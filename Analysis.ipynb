{
 "cells": [
  {
   "cell_type": "code",
   "execution_count": 1,
   "metadata": {},
   "outputs": [],
   "source": [
    "import grid\n",
    "import numpy as np\n",
    "import pickle\n",
    "\n",
    "Node = grid.Node\n",
    "with open(\"output/process-output_1/final.pickle\", \"rb\") as input_file:\n",
    "    root_node = pickle.loads(input_file.read())"
   ]
  },
  {
   "cell_type": "code",
   "execution_count": 2,
   "metadata": {},
   "outputs": [],
   "source": [
    "results = grid.processSparseningThenSteepeningGrid(root_node[\"root\"])"
   ]
  },
  {
   "cell_type": "code",
   "execution_count": 3,
   "metadata": {},
   "outputs": [
    {
     "name": "stderr",
     "output_type": "stream",
     "text": [
      "/tf/metrics.py:50: RuntimeWarning: invalid value encountered in double_scalars\n",
      "  return _sensitivity * _specificity / (1 - _sensitivity) / (1 - _specificity)\n"
     ]
    }
   ],
   "source": [
    "import metrics\n",
    "likelihoodGrid = grid.mapMetric(metrics.diagnosticOddsRatio, results, \"testing\", True, \"rapid\")\n",
    "likelihoodList = list(np.ndenumerate(likelihoodGrid))\n",
    "likelihoodList.sort(key=lambda x: -x[1])"
   ]
  },
  {
   "cell_type": "code",
   "execution_count": 4,
   "metadata": {},
   "outputs": [
    {
     "data": {
      "text/plain": [
       "[((13, 1), 6.328489326191877),\n",
       " ((13, 2), 6.328489326191877),\n",
       " ((13, 3), 5.332515964240117),\n",
       " ((13, 4), 5.332515964240117),\n",
       " ((11, 5), 3.9705381954290173),\n",
       " ((13, 0), 3.968835049694074),\n",
       " ((13, 6), 3.968835049694074),\n",
       " ((13, 5), 3.9343911706860584),\n",
       " ((10, 4), 3.865295898834642),\n",
       " ((11, 1), 3.853937197636449)]"
      ]
     },
     "execution_count": 4,
     "metadata": {},
     "output_type": "execute_result"
    }
   ],
   "source": [
    "likelihoodList[:10]"
   ]
  },
  {
   "cell_type": "code",
   "execution_count": 5,
   "metadata": {},
   "outputs": [
    {
     "data": {
      "text/plain": [
       "array([[   69.,    89.],\n",
       "       [ 1609., 13134.]])"
      ]
     },
     "execution_count": 5,
     "metadata": {},
     "output_type": "execute_result"
    }
   ],
   "source": [
    "results[13][1][\"eval\"][\"testing\"][\"hard_cutoff\"][\"confusion_matrix\"]"
   ]
  },
  {
   "cell_type": "code",
   "execution_count": 6,
   "metadata": {},
   "outputs": [
    {
     "data": {
      "text/plain": [
       "(70, 20)"
      ]
     },
     "execution_count": 6,
     "metadata": {},
     "output_type": "execute_result"
    }
   ],
   "source": [
    "results[0][0][\"params\"][\"dense\"][1][2].shape"
   ]
  }
 ],
 "metadata": {
  "kernelspec": {
   "display_name": "Python 3",
   "language": "python",
   "name": "python3"
  },
  "language_info": {
   "codemirror_mode": {
    "name": "ipython",
    "version": 3
   },
   "file_extension": ".py",
   "mimetype": "text/x-python",
   "name": "python",
   "nbconvert_exporter": "python",
   "pygments_lexer": "ipython3",
   "version": "3.6.8"
  }
 },
 "nbformat": 4,
 "nbformat_minor": 2
}
