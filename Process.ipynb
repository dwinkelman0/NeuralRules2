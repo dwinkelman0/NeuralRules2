{
 "cells": [
  {
   "cell_type": "code",
   "execution_count": 1,
   "metadata": {},
   "outputs": [],
   "source": [
    "import model\n",
    "nn = model.NeuralNetwork((70,), \"rapid\", 0.2, 64)"
   ]
  },
  {
   "cell_type": "code",
   "execution_count": 2,
   "metadata": {
    "scrolled": false
   },
   "outputs": [
    {
     "name": "stdout",
     "output_type": "stream",
     "text": [
      "Epoch 1 (Sparsity = 0.0, Steepness = 1.0): loss = 0.357, accuracy = 0.884, recall = 0.884, val_loss = 0.347, val_accuracy = 0.886, val_recall = 0.886\n",
      "Epoch 2 (Sparsity = 0.0, Steepness = 1.0): loss = 0.348, accuracy = 0.886, recall = 0.886, val_loss = 0.343, val_accuracy = 0.886, val_recall = 0.886\n",
      "Epoch 3 (Sparsity = 0.0, Steepness = 1.0): loss = 0.346, accuracy = 0.886, recall = 0.886, val_loss = 0.341, val_accuracy = 0.886, val_recall = 0.886\n",
      "Epoch 4 (Sparsity = 0.0, Steepness = 1.0): loss = 0.345, accuracy = 0.886, recall = 0.886, val_loss = 0.340, val_accuracy = 0.886, val_recall = 0.886\n",
      "Epoch 5 (Sparsity = 0.0, Steepness = 1.0): loss = 0.344, accuracy = 0.886, recall = 0.886, val_loss = 0.340, val_accuracy = 0.886, val_recall = 0.886\n",
      "Epoch 6 (Sparsity = 0.0, Steepness = 1.0): loss = 0.343, accuracy = 0.886, recall = 0.886, val_loss = 0.340, val_accuracy = 0.886, val_recall = 0.886\n"
     ]
    },
    {
     "data": {
      "text/plain": [
       "{'history': {'loss': [0.3568091243201189,\n",
       "   0.3484554526042601,\n",
       "   0.34599645728056105,\n",
       "   0.34467768799586973,\n",
       "   0.3437581406137757,\n",
       "   0.34290871982770715],\n",
       "  'accuracy': [0.884049,\n",
       "   0.88578904,\n",
       "   0.88578904,\n",
       "   0.88578904,\n",
       "   0.88580346,\n",
       "   0.88580346],\n",
       "  'recall': [0.884049,\n",
       "   0.88578904,\n",
       "   0.88578904,\n",
       "   0.88578904,\n",
       "   0.88580346,\n",
       "   0.88580346],\n",
       "  'val_loss': [0.34701609399108935,\n",
       "   0.3430264125445667,\n",
       "   0.3414004545317073,\n",
       "   0.3402790127784708,\n",
       "   0.3396515197925428,\n",
       "   0.33959177342623437],\n",
       "  'val_accuracy': [0.88631636,\n",
       "   0.88631636,\n",
       "   0.88631636,\n",
       "   0.88631636,\n",
       "   0.88631636,\n",
       "   0.88631636],\n",
       "  'val_recall': [0.88631636,\n",
       "   0.88631636,\n",
       "   0.88631636,\n",
       "   0.88631636,\n",
       "   0.88631636,\n",
       "   0.88631636]},\n",
       " 'parameters': {'batch_size': 64,\n",
       "  'epochs': 20,\n",
       "  'steps': 1087,\n",
       "  'samples': 69538,\n",
       "  'verbose': 0,\n",
       "  'do_validation': True,\n",
       "  'metrics': ['loss',\n",
       "   'accuracy',\n",
       "   'recall',\n",
       "   'val_loss',\n",
       "   'val_accuracy',\n",
       "   'val_recall']}}"
      ]
     },
     "execution_count": 2,
     "metadata": {},
     "output_type": "execute_result"
    }
   ],
   "source": [
    "nn.train()"
   ]
  },
  {
   "cell_type": "code",
   "execution_count": 3,
   "metadata": {},
   "outputs": [
    {
     "data": {
      "text/plain": [
       "[{'initial_sparsity': 0.0,\n",
       "  'final_sparsity': 0.19999999999999996,\n",
       "  'function': 'makeProportionallySparse',\n",
       "  'arguments': {'p': 0.2}}]"
      ]
     },
     "execution_count": 3,
     "metadata": {},
     "output_type": "execute_result"
    }
   ],
   "source": [
    "nn.sparsen()"
   ]
  },
  {
   "cell_type": "code",
   "execution_count": 4,
   "metadata": {},
   "outputs": [
    {
     "data": {
      "text/plain": [
       "[{'initial_steepness': 1.0, 'final_steepness': 2.0}]"
      ]
     },
     "execution_count": 4,
     "metadata": {},
     "output_type": "execute_result"
    }
   ],
   "source": [
    "nn.steepen()"
   ]
  },
  {
   "cell_type": "code",
   "execution_count": 5,
   "metadata": {},
   "outputs": [
    {
     "data": {
      "text/plain": [
       "{'training': {'sigmoidal': {'metrics': {'loss': 0.39343570624891605,\n",
       "    'accuracy': 0.8844948,\n",
       "    'recall_3': 0.8844948},\n",
       "   'confusion_matrix': array([[  258.,   348.],\n",
       "          [ 7684., 61248.]])},\n",
       "  'hard_cutoff': {'metrics': {'loss': 0.6599436948463913,\n",
       "    'accuracy': 0.8857315,\n",
       "    'recall_4': 0.8857315},\n",
       "   'confusion_matrix': array([[   93.,    97.],\n",
       "          [ 7849., 61499.]])}},\n",
       " 'validation': {'sigmoidal': {'metrics': {'loss': 0.39399741128918053,\n",
       "    'accuracy': 0.88443726,\n",
       "    'recall_5': 0.88443726},\n",
       "   'confusion_matrix': array([[   59.,    87.],\n",
       "          [ 1635., 13120.]])},\n",
       "  'hard_cutoff': {'metrics': {'loss': 0.6601100857486165,\n",
       "    'accuracy': 0.886115,\n",
       "    'recall_6': 0.886115},\n",
       "   'confusion_matrix': array([[   17.,    20.],\n",
       "          [ 1677., 13187.]])}},\n",
       " 'testing': {'sigmoidal': {'metrics': {'loss': 0.3910204640779469,\n",
       "    'accuracy': 0.8863835,\n",
       "    'recall_7': 0.8863835},\n",
       "   'confusion_matrix': array([[   69.,    84.],\n",
       "          [ 1609., 13139.]])},\n",
       "  'hard_cutoff': {'metrics': {'loss': 0.6593885524114037,\n",
       "    'accuracy': 0.8881954,\n",
       "    'recall_8': 0.8881954},\n",
       "   'confusion_matrix': array([[   28.,    16.],\n",
       "          [ 1650., 13207.]])}}}"
      ]
     },
     "execution_count": 5,
     "metadata": {},
     "output_type": "execute_result"
    }
   ],
   "source": [
    "nn.evaluate()"
   ]
  },
  {
   "cell_type": "code",
   "execution_count": 6,
   "metadata": {},
   "outputs": [
    {
     "data": {
      "text/plain": [
       "[{'initial_sparsity': 0.19999999999999996,\n",
       "  'final_sparsity': 0.3601279317697228,\n",
       "  'function': 'makeProportionallySparse',\n",
       "  'arguments': {'p': 0.2}}]"
      ]
     },
     "execution_count": 6,
     "metadata": {},
     "output_type": "execute_result"
    }
   ],
   "source": [
    "nn.sparsen()"
   ]
  },
  {
   "cell_type": "code",
   "execution_count": 7,
   "metadata": {},
   "outputs": [
    {
     "data": {
      "text/plain": [
       "{'training': {'sigmoidal': {'metrics': {'loss': 0.38565700776456513,\n",
       "    'accuracy': 0.8841353,\n",
       "    'recall_11': 0.8841353},\n",
       "   'confusion_matrix': array([[  270.,   385.],\n",
       "          [ 7672., 61211.]])},\n",
       "  'hard_cutoff': {'metrics': {'loss': 0.6591752928124603,\n",
       "    'accuracy': 0.8856309,\n",
       "    'recall_12': 0.8856309},\n",
       "   'confusion_matrix': array([[  119.,   130.],\n",
       "          [ 7823., 61466.]])}},\n",
       " 'validation': {'sigmoidal': {'metrics': {'loss': 0.3861665395304434,\n",
       "    'accuracy': 0.88403463,\n",
       "    'recall_13': 0.88403463},\n",
       "   'confusion_matrix': array([[   63.,    97.],\n",
       "          [ 1631., 13110.]])},\n",
       "  'hard_cutoff': {'metrics': {'loss': 0.6592558004113541,\n",
       "    'accuracy': 0.8859808,\n",
       "    'recall_14': 0.8859808},\n",
       "   'confusion_matrix': array([[   20.,    25.],\n",
       "          [ 1674., 13182.]])}},\n",
       " 'testing': {'sigmoidal': {'metrics': {'loss': 0.3831290845346646,\n",
       "    'accuracy': 0.88591367,\n",
       "    'recall_15': 0.88591367},\n",
       "   'confusion_matrix': array([[   70.,    92.],\n",
       "          [ 1608., 13131.]])},\n",
       "  'hard_cutoff': {'metrics': {'loss': 0.658642246994218,\n",
       "    'accuracy': 0.8875914,\n",
       "    'recall_16': 0.8875914},\n",
       "   'confusion_matrix': array([[   29.,    26.],\n",
       "          [ 1649., 13197.]])}}}"
      ]
     },
     "execution_count": 7,
     "metadata": {},
     "output_type": "execute_result"
    }
   ],
   "source": [
    "nn.evaluate()"
   ]
  }
 ],
 "metadata": {
  "kernelspec": {
   "display_name": "Python 3",
   "language": "python",
   "name": "python3"
  },
  "language_info": {
   "codemirror_mode": {
    "name": "ipython",
    "version": 3
   },
   "file_extension": ".py",
   "mimetype": "text/x-python",
   "name": "python",
   "nbconvert_exporter": "python",
   "pygments_lexer": "ipython3",
   "version": "3.6.8"
  }
 },
 "nbformat": 4,
 "nbformat_minor": 2
}
