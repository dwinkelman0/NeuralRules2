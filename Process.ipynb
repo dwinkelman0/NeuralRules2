{
 "cells": [
  {
   "cell_type": "code",
   "execution_count": 1,
   "metadata": {},
   "outputs": [],
   "source": [
    "import model\n",
    "import pickle\n",
    "\n",
    "def newNeuralNetwork():\n",
    "    return model.NeuralNetwork((70, 20), \"rapid\", 0.2, 64)"
   ]
  },
  {
   "cell_type": "code",
   "execution_count": 2,
   "metadata": {},
   "outputs": [],
   "source": [
    "class Node:\n",
    "    \n",
    "    def __init__(self, state):\n",
    "        self.state = state\n",
    "        self.next = []\n",
    "        \n",
    "    def connect(self, node, operation_type, operation):\n",
    "        self.next.append((operation_type, operation, node))"
   ]
  },
  {
   "cell_type": "code",
   "execution_count": 5,
   "metadata": {},
   "outputs": [],
   "source": [
    "def forkSteepnessIncrease(nn, node):\n",
    "    \n",
    "    current_node = node\n",
    "    \n",
    "    steep_nn = newNeuralNetwork()\n",
    "    steep_nn.setParams(nn.getParams())\n",
    "    \n",
    "    for step in range(3):\n",
    "        \n",
    "        # Increase steepness\n",
    "        steepening_op = steep_nn.steepen()\n",
    "        next_node = Node(steep_nn.getState())\n",
    "        current_node.connect(next_node, \"steepening\", steepening_op)\n",
    "        current_node = next_node\n",
    "        \n",
    "        # Train the model\n",
    "        training_op = steep_nn.train(100)\n",
    "        next_node = Node(steep_nn.getState())\n",
    "        current_node.connect(next_node, \"training\", training_op)\n",
    "        current_node = next_node"
   ]
  },
  {
   "cell_type": "code",
   "execution_count": 6,
   "metadata": {},
   "outputs": [],
   "source": [
    "main_nn = newNeuralNetwork()\n",
    "\n",
    "root_node = Node(main_nn.getState())\n",
    "current_node = root_node\n",
    "\n",
    "for stage in range(5):\n",
    "    \n",
    "    # Train the model\n",
    "    training_op = main_nn.train(100)\n",
    "    next_node = Node(main_nn.getState())\n",
    "    current_node.connect(next_node, \"training\", training_op)\n",
    "    current_node = next_node\n",
    "    \n",
    "    # Make a fork from the main model and increase steepness\n",
    "    forkSteepnessIncrease(main_nn, current_node)\n",
    "    \n",
    "    # Increase sparseness\n",
    "    sparsening_op = main_nn.sparsen()\n",
    "    next_node = Node(main_nn.getState())\n",
    "    current_node.connect(next_node, \"sparsening\", sparsening_op)\n",
    "    current_node = next_node\n",
    "    \n",
    "# Train the model\n",
    "training_op = main_nn.train(100)\n",
    "next_node = Node(main_nn.getState())\n",
    "current_node.connect(next_node, \"training\", training_op)\n",
    "current_node = next_node\n",
    "\n",
    "# Make a fork from the main model and increase steepness\n",
    "forkSteepnessIncrease(main_nn, current_node)"
   ]
  },
  {
   "cell_type": "code",
   "execution_count": 8,
   "metadata": {},
   "outputs": [],
   "source": [
    "with open(\"process-output_0.pickle\", \"wb\") as output_file:\n",
    "    pickle.dump(root_node, output_file)"
   ]
  }
 ],
 "metadata": {
  "kernelspec": {
   "display_name": "Python 3",
   "language": "python",
   "name": "python3"
  },
  "language_info": {
   "codemirror_mode": {
    "name": "ipython",
    "version": 3
   },
   "file_extension": ".py",
   "mimetype": "text/x-python",
   "name": "python",
   "nbconvert_exporter": "python",
   "pygments_lexer": "ipython3",
   "version": "3.6.8"
  }
 },
 "nbformat": 4,
 "nbformat_minor": 2
}
