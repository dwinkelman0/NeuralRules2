{
 "cells": [
  {
   "cell_type": "code",
   "execution_count": 1,
   "metadata": {},
   "outputs": [],
   "source": [
    "import model\n",
    "import pickle\n",
    "import os\n",
    "\n",
    "def newNeuralNetwork():\n",
    "    return model.NeuralNetwork((70, 20), \"rapid\", 0.1, 64)\n",
    "\n",
    "folder_name = \"process-output_2\"\n",
    "if len(os.listdir(folder_name)) > 0:\n",
    "    raise Ex"
   ]
  },
  {
   "cell_type": "code",
   "execution_count": 2,
   "metadata": {},
   "outputs": [],
   "source": [
    "class Node:\n",
    "    \n",
    "    def __init__(self, state):\n",
    "        self.state = state\n",
    "        self.next = []\n",
    "        \n",
    "    def connect(self, node, operation_type, operation):\n",
    "        self.next.append((operation_type, operation, node))"
   ]
  },
  {
   "cell_type": "code",
   "execution_count": 3,
   "metadata": {},
   "outputs": [],
   "source": [
    "def forkSteepnessIncrease(nn, node):\n",
    "    \n",
    "    # Save parameters\n",
    "    old_params = nn.getParams()\n",
    "    \n",
    "    current_node = node\n",
    "    \n",
    "    for step in range(8):\n",
    "        \n",
    "        # Increase steepness\n",
    "        steepening_op = nn.steepen()\n",
    "        next_node = Node(nn.getState())\n",
    "        current_node.connect(next_node, \"steepening\", steepening_op)\n",
    "        current_node = next_node\n",
    "        \n",
    "        # Train the model\n",
    "        training_op = nn.train(100)\n",
    "        next_node = Node(nn.getState())\n",
    "        current_node.connect(next_node, \"training\", training_op)\n",
    "        current_node = next_node\n",
    "        \n",
    "    nn.setParams(old_params)"
   ]
  },
  {
   "cell_type": "code",
   "execution_count": 4,
   "metadata": {
    "scrolled": true
   },
   "outputs": [],
   "source": [
    "main_nn = newNeuralNetwork()\n",
    "\n",
    "root_node = Node(main_nn.getState())\n",
    "current_node = root_node\n",
    "\n",
    "for stage in range(30):\n",
    "    \n",
    "    # Train the model\n",
    "    training_op = main_nn.train(100)\n",
    "    next_node = Node(main_nn.getState())\n",
    "    current_node.connect(next_node, \"training\", training_op)\n",
    "    current_node = next_node\n",
    "    \n",
    "    # Make a fork from the main model and increase steepness\n",
    "    forkSteepnessIncrease(main_nn, current_node)\n",
    "    \n",
    "    # Increase sparseness\n",
    "    sparsening_op = main_nn.sparsen()\n",
    "    next_node = Node(main_nn.getState())\n",
    "    current_node.connect(next_node, \"sparsening\", sparsening_op)\n",
    "    current_node = next_node\n",
    "    \n",
    "    with open(\"process-output_1/intermediate-{}.pickle\".format(stage), \"wb\") as output_file:\n",
    "        pickle.dump({\"root\": root_node}, output_file)\n",
    "    \n",
    "# Train the model\n",
    "training_op = main_nn.train(100)\n",
    "next_node = Node(main_nn.getState())\n",
    "current_node.connect(next_node, \"training\", training_op)\n",
    "current_node = next_node\n",
    "\n",
    "# Make a fork from the main model and increase steepness\n",
    "forkSteepnessIncrease(main_nn, current_node)"
   ]
  },
  {
   "cell_type": "code",
   "execution_count": 5,
   "metadata": {},
   "outputs": [],
   "source": [
    "with open(\"model.py\", \"r\") as source_file:\n",
    "    model_source = source_file.read()\n",
    "\n",
    "with open(\"process-output_1/final.pickle\", \"wb\") as output_file:\n",
    "    pickle.dump({\"root\": root_node, \"model_source\": model_source}, output_file)"
   ]
  },
  {
   "cell_type": "code",
   "execution_count": 6,
   "metadata": {},
   "outputs": [
    {
     "data": {
      "text/plain": [
       "<__main__.Node at 0x7fbc15c03358>"
      ]
     },
     "execution_count": 6,
     "metadata": {},
     "output_type": "execute_result"
    }
   ],
   "source": [
    "root_node"
   ]
  }
 ],
 "metadata": {
  "kernelspec": {
   "display_name": "Python 3",
   "language": "python",
   "name": "python3"
  },
  "language_info": {
   "codemirror_mode": {
    "name": "ipython",
    "version": 3
   },
   "file_extension": ".py",
   "mimetype": "text/x-python",
   "name": "python",
   "nbconvert_exporter": "python",
   "pygments_lexer": "ipython3",
   "version": "3.6.8"
  }
 },
 "nbformat": 4,
 "nbformat_minor": 2
}
