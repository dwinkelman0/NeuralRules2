{
 "cells": [
  {
   "cell_type": "code",
   "execution_count": 1,
   "metadata": {},
   "outputs": [],
   "source": [
    "import grid\n",
    "import model\n",
    "import pickle\n",
    "import os\n",
    "\n",
    "def newNeuralNetwork():\n",
    "    return model.NeuralNetwork((70, 20), \"any\", 0.1, 64)\n",
    "\n",
    "folder_name = \"output/process-output_4\"\n",
    "if not os.path.isdir(folder_name):\n",
    "    os.makedirs(folder_name)\n",
    "if len(os.listdir(folder_name)) > 0:\n",
    "    raise Exception(\"The output folder is not empty\")"
   ]
  },
  {
   "cell_type": "code",
   "execution_count": 2,
   "metadata": {
    "scrolled": true
   },
   "outputs": [],
   "source": [
    "main_nn = newNeuralNetwork()\n",
    "root_node = grid.generateSparseningThenSteepeningGrid(main_nn, 20, 0)"
   ]
  },
  {
   "cell_type": "code",
   "execution_count": 3,
   "metadata": {},
   "outputs": [],
   "source": [
    "with open(\"model.py\", \"r\") as source_file:\n",
    "    model_source = source_file.read()\n",
    "\n",
    "with open(\"{}/final.pickle\".format(folder_name), \"wb\") as output_file:\n",
    "    pickle.dump({\"root\": root_node, \"model_source\": model_source}, output_file)"
   ]
  }
 ],
 "metadata": {
  "kernelspec": {
   "display_name": "Python 3",
   "language": "python",
   "name": "python3"
  },
  "language_info": {
   "codemirror_mode": {
    "name": "ipython",
    "version": 3
   },
   "file_extension": ".py",
   "mimetype": "text/x-python",
   "name": "python",
   "nbconvert_exporter": "python",
   "pygments_lexer": "ipython3",
   "version": "3.6.8"
  }
 },
 "nbformat": 4,
 "nbformat_minor": 2
}
