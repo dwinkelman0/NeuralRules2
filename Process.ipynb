{
 "cells": [
  {
   "cell_type": "code",
   "execution_count": 1,
   "metadata": {},
   "outputs": [],
   "source": [
    "import model\n",
    "import pickle\n",
    "\n",
    "def newNeuralNetwork():\n",
    "    return model.NeuralNetwork((70, 20), \"rapid\", 0.1, 64)"
   ]
  },
  {
   "cell_type": "code",
   "execution_count": 2,
   "metadata": {},
   "outputs": [],
   "source": [
    "class Node:\n",
    "    \n",
    "    def __init__(self, state):\n",
    "        self.state = state\n",
    "        self.next = []\n",
    "        \n",
    "    def connect(self, node, operation_type, operation):\n",
    "        self.next.append((operation_type, operation, node))"
   ]
  },
  {
   "cell_type": "code",
   "execution_count": 3,
   "metadata": {},
   "outputs": [],
   "source": [
    "def forkSteepnessIncrease(nn, node):\n",
    "    \n",
    "    current_node = node\n",
    "    \n",
    "    steep_nn = newNeuralNetwork()\n",
    "    steep_nn.setParams(nn.getParams())\n",
    "    \n",
    "    for step in range(8):\n",
    "        \n",
    "        # Increase steepness\n",
    "        steepening_op = steep_nn.steepen()\n",
    "        next_node = Node(steep_nn.getState())\n",
    "        current_node.connect(next_node, \"steepening\", steepening_op)\n",
    "        current_node = next_node\n",
    "        \n",
    "        # Train the model\n",
    "        training_op = steep_nn.train(100)\n",
    "        next_node = Node(steep_nn.getState())\n",
    "        current_node.connect(next_node, \"training\", training_op)\n",
    "        current_node = next_node"
   ]
  },
  {
   "cell_type": "code",
   "execution_count": null,
   "metadata": {
    "scrolled": true
   },
   "outputs": [],
   "source": [
    "main_nn = newNeuralNetwork()\n",
    "\n",
    "root_node = Node(main_nn.getState())\n",
    "current_node = root_node\n",
    "\n",
    "for stage in range(30):\n",
    "    \n",
    "    # Train the model\n",
    "    training_op = main_nn.train(100)\n",
    "    next_node = Node(main_nn.getState())\n",
    "    current_node.connect(next_node, \"training\", training_op)\n",
    "    current_node = next_node\n",
    "    \n",
    "    # Make a fork from the main model and increase steepness\n",
    "    forkSteepnessIncrease(main_nn, current_node)\n",
    "    \n",
    "    # Increase sparseness\n",
    "    sparsening_op = main_nn.sparsen()\n",
    "    next_node = Node(main_nn.getState())\n",
    "    current_node.connect(next_node, \"sparsening\", sparsening_op)\n",
    "    current_node = next_node\n",
    "    \n",
    "# Train the model\n",
    "training_op = main_nn.train(100)\n",
    "next_node = Node(main_nn.getState())\n",
    "current_node.connect(next_node, \"training\", training_op)\n",
    "current_node = next_node\n",
    "\n",
    "# Make a fork from the main model and increase steepness\n",
    "forkSteepnessIncrease(main_nn, current_node)"
   ]
  },
  {
   "cell_type": "code",
   "execution_count": 1,
   "metadata": {},
   "outputs": [
    {
     "ename": "NameError",
     "evalue": "name 'pickle' is not defined",
     "output_type": "error",
     "traceback": [
      "\u001b[0;31m---------------------------------------------------------------------------\u001b[0m",
      "\u001b[0;31mNameError\u001b[0m                                 Traceback (most recent call last)",
      "\u001b[0;32m<ipython-input-1-f07cd683245c>\u001b[0m in \u001b[0;36m<module>\u001b[0;34m\u001b[0m\n\u001b[1;32m      3\u001b[0m \u001b[0;34m\u001b[0m\u001b[0m\n\u001b[1;32m      4\u001b[0m \u001b[0;32mwith\u001b[0m \u001b[0mopen\u001b[0m\u001b[0;34m(\u001b[0m\u001b[0;34m\"process-output_1.pickle\"\u001b[0m\u001b[0;34m,\u001b[0m \u001b[0;34m\"wb\"\u001b[0m\u001b[0;34m)\u001b[0m \u001b[0;32mas\u001b[0m \u001b[0moutput_file\u001b[0m\u001b[0;34m:\u001b[0m\u001b[0;34m\u001b[0m\u001b[0;34m\u001b[0m\u001b[0m\n\u001b[0;32m----> 5\u001b[0;31m     \u001b[0mpickle\u001b[0m\u001b[0;34m.\u001b[0m\u001b[0mdump\u001b[0m\u001b[0;34m(\u001b[0m\u001b[0;34m{\u001b[0m\u001b[0;34m\"root\"\u001b[0m\u001b[0;34m:\u001b[0m \u001b[0mroot_node\u001b[0m\u001b[0;34m,\u001b[0m \u001b[0;34m\"model_source\"\u001b[0m\u001b[0;34m:\u001b[0m \u001b[0mmodel_source\u001b[0m\u001b[0;34m}\u001b[0m\u001b[0;34m,\u001b[0m \u001b[0moutput_file\u001b[0m\u001b[0;34m)\u001b[0m\u001b[0;34m\u001b[0m\u001b[0;34m\u001b[0m\u001b[0m\n\u001b[0m",
      "\u001b[0;31mNameError\u001b[0m: name 'pickle' is not defined"
     ]
    }
   ],
   "source": [
    "with open(\"model.py\", \"r\") as source_file:\n",
    "    model_source = source_file.read()\n",
    "\n",
    "with open(\"process-output_1.pickle\", \"wb\") as output_file:\n",
    "    pickle.dump({\"root\": root_node, \"model_source\": model_source}, output_file)"
   ]
  }
 ],
 "metadata": {
  "kernelspec": {
   "display_name": "Python 3",
   "language": "python",
   "name": "python3"
  },
  "language_info": {
   "codemirror_mode": {
    "name": "ipython",
    "version": 3
   },
   "file_extension": ".py",
   "mimetype": "text/x-python",
   "name": "python",
   "nbconvert_exporter": "python",
   "pygments_lexer": "ipython3",
   "version": "3.6.8"
  }
 },
 "nbformat": 4,
 "nbformat_minor": 2
}
